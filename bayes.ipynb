{
 "cells": [
  {
   "cell_type": "code",
   "execution_count": 4,
   "metadata": {},
   "outputs": [],
   "source": [
    "import pandas as pd\n",
    "\n",
    "dataset = pd.read_csv('resources/Cleaned-Data.csv')"
   ]
  },
  {
   "cell_type": "code",
   "execution_count": 5,
   "metadata": {},
   "outputs": [
    {
     "name": "stdout",
     "output_type": "stream",
     "text": [
      "This is propabilty fatiga 0.6875\n",
      "This is propabilty tos_seca 0.5\n",
      "This is propabilty dificultad_para_respirar 0.4375\n",
      "This is propabilty garganta_irritada 0.6875\n",
      "This is propabilty dolores 0.6363636363636364\n",
      "This is propabilty congestion_nasal 0.45454545454545453\n",
      "This is propabilty goteo_nasal 0.45454545454545453\n",
      "This is propabilty diarrea 0.6363636363636364\n"
     ]
    }
   ],
   "source": [
    "#Caracteristicas de pacientes encontradas en el archivo\n",
    "#No coinciden con el anexo\n",
    "fiebre = dataset['Fiebre']\n",
    "fatiga = dataset['Cansancio']\n",
    "tos_seca = dataset['Tos seca']\n",
    "dificultad_para_respirar = dataset['Dificultad para respirar']\n",
    "garganta_irritada = dataset['Garganta irritada']\n",
    "dolores = dataset['Dolores']\n",
    "congestion_nasal = dataset['Congestión nasal']\n",
    "goteo_nasal = dataset['Goteo nasal']\n",
    "diarrea = dataset['Diarrea']\n",
    "\n",
    "probabilidad_fatiga = fiebre.tolist().count(0) / len(fiebre)\n",
    "probabilidad_tos_seca = fatiga.tolist().count(0) / len(fatiga)\n",
    "probabilidad_dificultad_para_respirar = tos_seca.tolist().count(0) / len(tos_seca)\n",
    "probabilidad_garganta_irritada = garganta_irritada.tolist().count(0) / len(garganta_irritada)\n",
    "probabilidad_dolores = dolores.tolist().count(0) / len(dolores)\n",
    "probabilidad_congestion_nasal = congestion_nasal.tolist().count(0) / len(congestion_nasal)\n",
    "probabilidad_goteo_nasal = goteo_nasal.tolist().count(0) / len(goteo_nasal)\n",
    "probabilidad_diarrea = diarrea.tolist().count(0) / len(diarrea)\n",
    "\n",
    "print(f'This is success propabilty fatiga {probabilidad_fatiga}')\n",
    "print(f'This is success propabilty tos_seca {probabilidad_tos_seca}')\n",
    "print(f'This is success propabilty dificultad_para_respirar {probabilidad_dificultad_para_respirar}')\n",
    "print(f'This is success propabilty garganta_irritada {probabilidad_garganta_irritada}')\n",
    "print(f'This is success propabilty dolores {probabilidad_dolores}')\n",
    "print(f'This is success propabilty congestion_nasal {probabilidad_congestion_nasal}')\n",
    "print(f'This is success propabilty goteo_nasal {probabilidad_goteo_nasal}')\n",
    "print(f'This is success propabilty diarrea {probabilidad_diarrea}')"
   ]
  },
  {
   "cell_type": "code",
   "execution_count": null,
   "metadata": {},
   "outputs": [],
   "source": []
  }
 ],
 "metadata": {
  "kernelspec": {
   "display_name": "base",
   "language": "python",
   "name": "python3"
  },
  "language_info": {
   "codemirror_mode": {
    "name": "ipython",
    "version": 3
   },
   "file_extension": ".py",
   "mimetype": "text/x-python",
   "name": "python",
   "nbconvert_exporter": "python",
   "pygments_lexer": "ipython3",
   "version": "3.9.13"
  },
  "orig_nbformat": 4
 },
 "nbformat": 4,
 "nbformat_minor": 2
}
