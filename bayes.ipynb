{
 "cells": [
  {
   "cell_type": "code",
   "execution_count": 1,
   "metadata": {},
   "outputs": [],
   "source": [
    "import pandas as pd\n",
    "\n",
    "dataset = pd.read_csv('resources/Cleaned-Data.csv')"
   ]
  },
  {
   "cell_type": "code",
   "execution_count": 3,
   "metadata": {},
   "outputs": [
    {
     "name": "stdout",
     "output_type": "stream",
     "text": [
      "This is success propabilty fatiga 0.3125\n",
      "This is success propabilty tos_seca 0.5\n",
      "This is success propabilty dificultad_para_respirar 0.5625\n",
      "This is success propabilty garganta_irritada 0.3125\n",
      "This is success propabilty dolores 0.36363636363636365\n",
      "This is success propabilty congestion_nasal 0.5454545454545454\n",
      "This is success propabilty goteo_nasal 0.5454545454545454\n",
      "This is success propabilty diarrea 0.36363636363636365\n"
     ]
    }
   ],
   "source": [
    "#Caracteristicas de pacientes encontradas en el archivo\n",
    "#No coinciden con el anexo\n",
    "fiebre = dataset['Fiebre']\n",
    "fatiga = dataset['Cansancio']\n",
    "tos_seca = dataset['Tos seca']\n",
    "dificultad_para_respirar = dataset['Dificultad para respirar']\n",
    "garganta_irritada = dataset['Garganta irritada']\n",
    "dolores = dataset['Dolores']\n",
    "congestion_nasal = dataset['Congestión nasal']\n",
    "goteo_nasal = dataset['Goteo nasal']\n",
    "diarrea = dataset['Diarrea']\n",
    "\n",
    "probabilidad_fatiga = fiebre.tolist().count(1) / len(fiebre)\n",
    "probabilidad_tos_seca = fatiga.tolist().count(1) / len(fatiga)\n",
    "probabilidad_dificultad_para_respirar = tos_seca.tolist().count(1) / len(tos_seca)\n",
    "probabilidad_garganta_irritada = garganta_irritada.tolist().count(1) / len(garganta_irritada)\n",
    "probabilidad_dolores = dolores.tolist().count(1) / len(dolores)\n",
    "probabilidad_congestion_nasal = congestion_nasal.tolist().count(1) / len(congestion_nasal)\n",
    "probabilidad_goteo_nasal = goteo_nasal.tolist().count(1) / len(goteo_nasal)\n",
    "probabilidad_diarrea = diarrea.tolist().count(1) / len(diarrea)\n",
    "\n",
    "print(f'This is success propabilty fatiga {probabilidad_fatiga}')\n",
    "print(f'This is success propabilty tos_seca {probabilidad_tos_seca}')\n",
    "print(f'This is success propabilty dificultad_para_respirar {probabilidad_dificultad_para_respirar}')\n",
    "print(f'This is success propabilty garganta_irritada {probabilidad_garganta_irritada}')\n",
    "print(f'This is success propabilty dolores {probabilidad_dolores}')\n",
    "print(f'This is success propabilty congestion_nasal {probabilidad_congestion_nasal}')\n",
    "print(f'This is success propabilty goteo_nasal {probabilidad_goteo_nasal}')\n",
    "print(f'This is success propabilty diarrea {probabilidad_diarrea}')"
   ]
  },
  {
   "cell_type": "code",
   "execution_count": 18,
   "metadata": {},
   "outputs": [
    {
     "name": "stdout",
     "output_type": "stream",
     "text": [
      "This is success p_sintomas_given_covid 0.001080548630558022\n"
     ]
    }
   ],
   "source": [
    "#Ya que la información proporcionada en el archivo CSV solo incluye síntomas y características de los pacientes y no indica si tienen COVID o no.\n",
    "# asignaremos el siguiente valor de prevalencia:\n",
    "prevalencia_covid = 0.1\n",
    "sintomas = [fatiga , tos_seca , dificultad_para_respirar , garganta_irritada ,\n",
    "            dolores , congestion_nasal , goteo_nasal , diarrea ]\n",
    "\n",
    "p_sintomas_given_covid = probabilidad_fatiga * probabilidad_tos_seca * probabilidad_dificultad_para_respirar * \\\n",
    "probabilidad_garganta_irritada * probabilidad_dolores * probabilidad_congestion_nasal * \\\n",
    "probabilidad_goteo_nasal * probabilidad_diarrea\n",
    "\n",
    "print(f'This is success p_sintomas_given_covid {p_sintomas_given_covid}')"
   ]
  },
  {
   "cell_type": "code",
   "execution_count": 19,
   "metadata": {},
   "outputs": [
    {
     "name": "stdout",
     "output_type": "stream",
     "text": [
      "La probabilidad de que el paciente tenga COVID-19 dado los sintomas es 0.9999167159145943\n"
     ]
    }
   ],
   "source": [
    "p_sintomas_given_no_covid =  prevalencia_covid ** len(sintomas) \n",
    "p_sintomas = p_sintomas_given_covid * prevalencia_covid + p_sintomas_given_no_covid * (1 - prevalencia_covid)\n",
    "p_given_covid_sintomas = p_sintomas_given_covid * prevalencia_covid / p_sintomas\n",
    "\n",
    "print(f'La probabilidad de que el paciente tenga COVID-19 dado los sintomas es {p_given_covid_sintomas}')"
   ]
  }
 ],
 "metadata": {
  "kernelspec": {
   "display_name": "base",
   "language": "python",
   "name": "python3"
  },
  "language_info": {
   "codemirror_mode": {
    "name": "ipython",
    "version": 3
   },
   "file_extension": ".py",
   "mimetype": "text/x-python",
   "name": "python",
   "nbconvert_exporter": "python",
   "pygments_lexer": "ipython3",
   "version": "3.9.13"
  },
  "orig_nbformat": 4
 },
 "nbformat": 4,
 "nbformat_minor": 2
}
