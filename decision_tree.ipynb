{
 "cells": [
  {
   "cell_type": "code",
   "execution_count": 2,
   "metadata": {},
   "outputs": [],
   "source": [
    "import pandas\n",
    "from sklearn.tree import DecisionTreeClassifier\n",
    "from sklearn.model_selection import train_test_split\n",
    "\n",
    "\n",
    "dataset = pandas.read_csv('resources/covid.csv')\n",
    "dataset.dropna(inplace=True)"
   ]
  },
  {
   "cell_type": "code",
   "execution_count": 9,
   "metadata": {},
   "outputs": [
    {
     "name": "stdout",
     "output_type": "stream",
     "text": [
      "            date      country  new_cases  new_deaths  total_cases\n",
      "0     2019-12-31  Afghanistan          0           0            0\n",
      "1     2020-01-01  Afghanistan          0           0            0\n",
      "2     2020-01-02  Afghanistan          0           0            0\n",
      "3     2020-01-03  Afghanistan          0           0            0\n",
      "4     2020-01-04  Afghanistan          0           0            0\n",
      "...          ...          ...        ...         ...          ...\n",
      "7315  2020-03-24     Zimbabwe          0           1            2\n",
      "7316  2020-03-25     Zimbabwe          0           0            2\n",
      "7317  2020-03-26     Zimbabwe          1           0            3\n",
      "7318  2020-03-27     Zimbabwe          0           0            3\n",
      "7319  2020-03-28     Zimbabwe          2           0            5\n",
      "\n",
      "[7320 rows x 5 columns]\n",
      "0       0\n",
      "1       0\n",
      "2       0\n",
      "3       0\n",
      "4       0\n",
      "       ..\n",
      "7315    1\n",
      "7316    1\n",
      "7317    1\n",
      "7318    1\n",
      "7319    1\n",
      "Name: total_deaths, Length: 7320, dtype: int64\n"
     ]
    }
   ],
   "source": [
    "x = dataset.iloc[:, :-1]\n",
    "y = dataset.iloc[:, -1]\n",
    "print(x)\n",
    "print(y)"
   ]
  },
  {
   "cell_type": "code",
   "execution_count": 10,
   "metadata": {},
   "outputs": [
    {
     "data": {
      "text/plain": [
       "DecisionTreeClassifier()"
      ]
     },
     "execution_count": 10,
     "metadata": {},
     "output_type": "execute_result"
    }
   ],
   "source": [
    "X = pandas.get_dummies(x)\n",
    "\n",
    "X_train, X_test, y_train, y_test = train_test_split(X , y, test_size=0.2, random_state=42)\n",
    "clf = DecisionTreeClassifier()\n",
    "clf.fit(X_train, y_train)"
   ]
  },
  {
   "cell_type": "code",
   "execution_count": 15,
   "metadata": {},
   "outputs": [
    {
     "name": "stdout",
     "output_type": "stream",
     "text": [
      "Acurraci:  86.8852%\n"
     ]
    }
   ],
   "source": [
    "score = clf.score(X_test , y_test)\n",
    "# %.4f%% string formatting option treats the value as a decimal, and prints it to six decimal places the second % outside of the \n",
    "print('Acurraci:  %.4f%%' % (score * 100.0))"
   ]
  }
 ],
 "metadata": {
  "kernelspec": {
   "display_name": "base",
   "language": "python",
   "name": "python3"
  },
  "language_info": {
   "codemirror_mode": {
    "name": "ipython",
    "version": 3
   },
   "file_extension": ".py",
   "mimetype": "text/x-python",
   "name": "python",
   "nbconvert_exporter": "python",
   "pygments_lexer": "ipython3",
   "version": "3.9.13"
  },
  "orig_nbformat": 4
 },
 "nbformat": 4,
 "nbformat_minor": 2
}
